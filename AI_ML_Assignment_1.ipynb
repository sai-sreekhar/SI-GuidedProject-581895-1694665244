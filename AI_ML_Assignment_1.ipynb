{
  "nbformat": 4,
  "nbformat_minor": 0,
  "metadata": {
    "colab": {
      "provenance": [],
      "include_colab_link": true
    },
    "kernelspec": {
      "name": "python3",
      "display_name": "Python 3"
    },
    "language_info": {
      "name": "python"
    }
  },
  "cells": [
    {
      "cell_type": "markdown",
      "metadata": {
        "id": "view-in-github",
        "colab_type": "text"
      },
      "source": [
        "<a href=\"https://colab.research.google.com/github/sai-sreekhar/SmartBridge_ML-DL/blob/main/AI_ML_Assignment_1.ipynb\" target=\"_parent\"><img src=\"https://colab.research.google.com/assets/colab-badge.svg\" alt=\"Open In Colab\"/></a>"
      ]
    },
    {
      "cell_type": "markdown",
      "source": [
        "# **Create a pandas DataFrame with numpy random values**\n"
      ],
      "metadata": {
        "id": "I2PaWvu1jFZ2"
      }
    },
    {
      "cell_type": "code",
      "execution_count": 31,
      "metadata": {
        "id": "W8sQ0Sm2mUWl"
      },
      "outputs": [],
      "source": [
        "import pandas as pd\n",
        "import numpy as np\n",
        "\n",
        "data = {\n",
        "    'Feature1': np.random.rand(10),\n",
        "    'Feature2': np.random.randint(1, 100, 10),\n",
        "    'Feature3': np.random.choice(['A', 'B', 'C'], 10),\n",
        "    'Feature4': np.random.choice([True, False], 10)\n",
        "}\n",
        "\n",
        "df = pd.DataFrame(data)"
      ]
    },
    {
      "cell_type": "code",
      "source": [
        "print(df)"
      ],
      "metadata": {
        "colab": {
          "base_uri": "https://localhost:8080/"
        },
        "id": "gCn1-fkemc3Z",
        "outputId": "d969dc6c-fc6c-45d3-d652-2b9ccbfa3578"
      },
      "execution_count": 32,
      "outputs": [
        {
          "output_type": "stream",
          "name": "stdout",
          "text": [
            "   Feature1  Feature2 Feature3  Feature4\n",
            "0  0.651474        78        B     False\n",
            "1  0.452530        78        B      True\n",
            "2  0.511765        86        A      True\n",
            "3  0.013036        42        C     False\n",
            "4  0.418783        97        B     False\n",
            "5  0.743651        69        C     False\n",
            "6  0.565992        67        B     False\n",
            "7  0.593517        47        B     False\n",
            "8  0.827852        35        A      True\n",
            "9  0.555027        73        C      True\n"
          ]
        }
      ]
    },
    {
      "cell_type": "markdown",
      "source": [
        "# **Renaming the DataFrame column names**\n"
      ],
      "metadata": {
        "id": "YyMD1vPqjsX_"
      }
    },
    {
      "cell_type": "code",
      "source": [
        "column_mapping = {\n",
        "    'Feature1': 'Random Value 1',\n",
        "    'Feature2': 'Random Value 2',\n",
        "    'Feature3': 'Random Value 3',\n",
        "    'Feature4': 'Random Value 4'\n",
        "}\n",
        "\n",
        "df.rename(columns=column_mapping, inplace=True)"
      ],
      "metadata": {
        "id": "amDkcSMCj95a"
      },
      "execution_count": 33,
      "outputs": []
    },
    {
      "cell_type": "code",
      "source": [
        "print(df)"
      ],
      "metadata": {
        "colab": {
          "base_uri": "https://localhost:8080/"
        },
        "id": "LlEesnnKkAT9",
        "outputId": "356bb937-f873-4e85-9a50-58ecef2ef653"
      },
      "execution_count": 34,
      "outputs": [
        {
          "output_type": "stream",
          "name": "stdout",
          "text": [
            "   Random Value 1  Random Value 2 Random Value 3  Random Value 4\n",
            "0        0.651474              78              B           False\n",
            "1        0.452530              78              B            True\n",
            "2        0.511765              86              A            True\n",
            "3        0.013036              42              C           False\n",
            "4        0.418783              97              B           False\n",
            "5        0.743651              69              C           False\n",
            "6        0.565992              67              B           False\n",
            "7        0.593517              47              B           False\n",
            "8        0.827852              35              A            True\n",
            "9        0.555027              73              C            True\n"
          ]
        }
      ]
    },
    {
      "cell_type": "markdown",
      "source": [
        "# **Finding Descriptive Statistics of DataFrame**"
      ],
      "metadata": {
        "id": "nQD5IGZEkHG0"
      }
    },
    {
      "cell_type": "code",
      "source": [
        "print(df.describe())"
      ],
      "metadata": {
        "colab": {
          "base_uri": "https://localhost:8080/"
        },
        "id": "2j_K6IrlnO0B",
        "outputId": "2fefdd05-27b3-4cb6-e6cb-f42957aa170d"
      },
      "execution_count": 35,
      "outputs": [
        {
          "output_type": "stream",
          "name": "stdout",
          "text": [
            "       Random Value 1  Random Value 2\n",
            "count       10.000000       10.000000\n",
            "mean         0.533363       67.200000\n",
            "std          0.221338       19.976653\n",
            "min          0.013036       35.000000\n",
            "25%          0.467339       52.000000\n",
            "50%          0.560509       71.000000\n",
            "75%          0.636985       78.000000\n",
            "max          0.827852       97.000000\n"
          ]
        }
      ]
    },
    {
      "cell_type": "markdown",
      "source": [
        "# **Finding Datatypes of Columns**"
      ],
      "metadata": {
        "id": "l5C-1ug0kv2u"
      }
    },
    {
      "cell_type": "code",
      "source": [
        "column_data_types = df.dtypes\n",
        "print(column_data_types)"
      ],
      "metadata": {
        "colab": {
          "base_uri": "https://localhost:8080/"
        },
        "id": "h9o_p8Vjk7Yr",
        "outputId": "da149856-56ee-4357-e089-29b84b529a46"
      },
      "execution_count": 36,
      "outputs": [
        {
          "output_type": "stream",
          "name": "stdout",
          "text": [
            "Random Value 1    float64\n",
            "Random Value 2      int64\n",
            "Random Value 3     object\n",
            "Random Value 4       bool\n",
            "dtype: object\n"
          ]
        }
      ]
    },
    {
      "cell_type": "markdown",
      "source": [
        "# **Check for NULL Values**"
      ],
      "metadata": {
        "id": "G_UuRJ4ZlaQH"
      }
    },
    {
      "cell_type": "code",
      "source": [
        "null_positions = [(1, 'Random Value 1'), (3, 'Random Value 2'), (6, 'Random Value 3'), (8, 'Random Value 4'), (9, 'Random Value 3')]\n",
        "\n",
        "for row, col in null_positions:\n",
        "    df.at[row, col] = None\n",
        "\n",
        "print(df)"
      ],
      "metadata": {
        "colab": {
          "base_uri": "https://localhost:8080/"
        },
        "id": "bScijmfYmVXt",
        "outputId": "ffc9a136-d320-44b8-8c43-5cb29cbbeacb"
      },
      "execution_count": 37,
      "outputs": [
        {
          "output_type": "stream",
          "name": "stdout",
          "text": [
            "   Random Value 1  Random Value 2 Random Value 3 Random Value 4\n",
            "0        0.651474            78.0              B          False\n",
            "1             NaN            78.0              B           True\n",
            "2        0.511765            86.0              A           True\n",
            "3        0.013036             NaN              C          False\n",
            "4        0.418783            97.0              B          False\n",
            "5        0.743651            69.0              C          False\n",
            "6        0.565992            67.0           None          False\n",
            "7        0.593517            47.0              B          False\n",
            "8        0.827852            35.0              A            NaN\n",
            "9        0.555027            73.0           None           True\n"
          ]
        }
      ]
    },
    {
      "cell_type": "code",
      "source": [
        "null_values = df.isnull()\n",
        "null_counts = df.isnull().sum()\n",
        "has_null = df.isnull().any().any()\n",
        "print(\"DataFrame with null values:\")\n",
        "print(df)\n",
        "print(\"\\nNull values (True indicates a null value):\")\n",
        "print(null_values)\n",
        "print(\"\\nNumber of null values in each column:\")\n",
        "print(null_counts)\n",
        "print(\"\\nAre there any null values in the DataFrame?\")\n",
        "print(has_null)"
      ],
      "metadata": {
        "colab": {
          "base_uri": "https://localhost:8080/"
        },
        "id": "4RuCQDnMlgZQ",
        "outputId": "b87ff410-1e12-42d1-f005-2d209eaeafe0"
      },
      "execution_count": 38,
      "outputs": [
        {
          "output_type": "stream",
          "name": "stdout",
          "text": [
            "DataFrame with null values:\n",
            "   Random Value 1  Random Value 2 Random Value 3 Random Value 4\n",
            "0        0.651474            78.0              B          False\n",
            "1             NaN            78.0              B           True\n",
            "2        0.511765            86.0              A           True\n",
            "3        0.013036             NaN              C          False\n",
            "4        0.418783            97.0              B          False\n",
            "5        0.743651            69.0              C          False\n",
            "6        0.565992            67.0           None          False\n",
            "7        0.593517            47.0              B          False\n",
            "8        0.827852            35.0              A            NaN\n",
            "9        0.555027            73.0           None           True\n",
            "\n",
            "Null values (True indicates a null value):\n",
            "   Random Value 1  Random Value 2  Random Value 3  Random Value 4\n",
            "0           False           False           False           False\n",
            "1            True           False           False           False\n",
            "2           False           False           False           False\n",
            "3           False            True           False           False\n",
            "4           False           False           False           False\n",
            "5           False           False           False           False\n",
            "6           False           False            True           False\n",
            "7           False           False           False           False\n",
            "8           False           False           False            True\n",
            "9           False           False            True           False\n",
            "\n",
            "Number of null values in each column:\n",
            "Random Value 1    1\n",
            "Random Value 2    1\n",
            "Random Value 3    2\n",
            "Random Value 4    1\n",
            "dtype: int64\n",
            "\n",
            "Are there any null values in the DataFrame?\n",
            "True\n"
          ]
        }
      ]
    },
    {
      "cell_type": "code",
      "source": [
        "print(df.info())"
      ],
      "metadata": {
        "colab": {
          "base_uri": "https://localhost:8080/"
        },
        "id": "zvlptKS7nLD6",
        "outputId": "cba8888a-825c-4452-db33-2d1524900b15"
      },
      "execution_count": 39,
      "outputs": [
        {
          "output_type": "stream",
          "name": "stdout",
          "text": [
            "<class 'pandas.core.frame.DataFrame'>\n",
            "RangeIndex: 10 entries, 0 to 9\n",
            "Data columns (total 4 columns):\n",
            " #   Column          Non-Null Count  Dtype  \n",
            "---  ------          --------------  -----  \n",
            " 0   Random Value 1  9 non-null      float64\n",
            " 1   Random Value 2  9 non-null      float64\n",
            " 2   Random Value 3  8 non-null      object \n",
            " 3   Random Value 4  9 non-null      object \n",
            "dtypes: float64(2), object(2)\n",
            "memory usage: 448.0+ bytes\n",
            "None\n"
          ]
        }
      ]
    },
    {
      "cell_type": "markdown",
      "source": [
        "# **Displaying Random Value 2 and Random Value 3 Columns using location and index methods**"
      ],
      "metadata": {
        "id": "ke7r3LoxoDmB"
      }
    },
    {
      "cell_type": "code",
      "source": [
        "print(\"Using .loc[]:\")\n",
        "print(df.loc[:, ['Random Value 2', 'Random Value 3']])\n",
        "\n",
        "print(\"\\nUsing .iloc[]:\")\n",
        "print(df.iloc[:, [1, 2]])"
      ],
      "metadata": {
        "colab": {
          "base_uri": "https://localhost:8080/"
        },
        "id": "Uy5oRfttn70_",
        "outputId": "58de4cb0-73e4-446e-f5c6-a64b83c56ba7"
      },
      "execution_count": 40,
      "outputs": [
        {
          "output_type": "stream",
          "name": "stdout",
          "text": [
            "Using .loc[]:\n",
            "   Random Value 2 Random Value 3\n",
            "0            78.0              B\n",
            "1            78.0              B\n",
            "2            86.0              A\n",
            "3             NaN              C\n",
            "4            97.0              B\n",
            "5            69.0              C\n",
            "6            67.0           None\n",
            "7            47.0              B\n",
            "8            35.0              A\n",
            "9            73.0           None\n",
            "\n",
            "Using .iloc[]:\n",
            "   Random Value 2 Random Value 3\n",
            "0            78.0              B\n",
            "1            78.0              B\n",
            "2            86.0              A\n",
            "3             NaN              C\n",
            "4            97.0              B\n",
            "5            69.0              C\n",
            "6            67.0           None\n",
            "7            47.0              B\n",
            "8            35.0              A\n",
            "9            73.0           None\n"
          ]
        }
      ]
    }
  ]
}